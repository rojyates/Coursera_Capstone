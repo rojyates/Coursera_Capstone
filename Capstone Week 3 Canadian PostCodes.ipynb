{
    "nbformat_minor": 1, 
    "cells": [
        {
            "source": "# Peer-graded Assignment: Segmenting and Clustering Neighborhoods in Toronto\nThis notebook extracts and processes the data in the table of postcodes from the wikipedia page at: https://en.wikipedia.org/wiki/List_of_postal_codes_of_Canada:_M\n\nWe ignore unused postcodes and merge all neighbourhoods with the same postcode into a single row, and assign the suburb name to the neighbourhood where one the neighbourhood has not been assigned a separate name.\n", 
            "cell_type": "markdown", 
            "metadata": {}
        }, 
        {
            "source": "### Import the packages we'll use", 
            "cell_type": "markdown", 
            "metadata": {}
        }, 
        {
            "execution_count": 1, 
            "cell_type": "code", 
            "metadata": {}, 
            "outputs": [], 
            "source": "import numpy as np # library to handle data in a vectorized manner\n\nimport pandas as pd # library for data analysis\npd.set_option('display.max_columns', None)\npd.set_option('display.max_rows', None)\n\nimport requests # library to handle requests\nfrom bs4 import BeautifulSoup # library to parse HTML"
        }, 
        {
            "source": "### Download the wiki page and convert into an object tree", 
            "cell_type": "markdown", 
            "metadata": {}
        }, 
        {
            "execution_count": 2, 
            "cell_type": "code", 
            "metadata": {}, 
            "outputs": [], 
            "source": "url = \"https://en.wikipedia.org/wiki/List_of_postal_codes_of_Canada:_M\"\n\nwiki_page = requests.get(url).text\n    \nsoup = BeautifulSoup(wiki_page,'lxml')"
        }, 
        {
            "source": "### Find the table part of the page and extract the headers\n3.1 The dataframe will consist of three columns: PostalCode, Borough, and Neighborhood", 
            "cell_type": "markdown", 
            "metadata": {}
        }, 
        {
            "execution_count": 3, 
            "cell_type": "code", 
            "metadata": {}, 
            "outputs": [
                {
                    "execution_count": 3, 
                    "metadata": {}, 
                    "data": {
                        "text/plain": "['Postcode', 'Borough', 'Neighbourhood']"
                    }, 
                    "output_type": "execute_result"
                }
            ], 
            "source": "My_table = soup.find('table',{'class':'wikitable sortable'})\n#print(My_table)\n\nths = My_table.findAll('th')\nheaders=[]\nfor th in ths:\n    headers.append(th.text.strip())\nheaders"
        }, 
        {
            "source": "### Now add the data\nFind all of the table rows containing data and build up a dictionary of postcodes, boroughs and neighbourhoods, filtering and appending neighbourhoods to existing postcodes as we go.\n* 3.2 Only process the cells that have an assigned borough. _Ignore cells with a borough that is Not assigned._\n* 3.3 More than one neighborhood can exist in one postal code area. _For example, in the table on the Wikipedia page, you will notice that M5A is listed twice and has two neighborhoods: Harbourfront and Regent Park. These two rows will be combined into one row with the neighborhoods separated with a comma as shown in row 11 in the above table._\n* 3.4 If a cell has a borough but a Not assigned neighborhood, then the neighborhood will be the same as the borough. _So for the 9th cell in the table on the Wikipedia page, the value of the Borough and the Neighborhood columns will be Queen's Park._", 
            "cell_type": "markdown", 
            "metadata": {}
        }, 
        {
            "execution_count": 4, 
            "cell_type": "code", 
            "metadata": {
                "scrolled": false
            }, 
            "outputs": [], 
            "source": "# Find all of the table rows to process\nrows = My_table.findAll('tr')\npostcode_list={}\n# lose the first row as that's the headers that we have already processed\nrows=rows[1:]\nfor row in rows:\n    tds = row.findAll('td')\n    postcode = tds[0].text.strip()\n    borough = tds[1].text.strip()\n    neigh = tds[2].text.strip()\n    \n    #3.4 If a cell has a borough but a Not assigned neighborhood, then the neighborhood will be the same as the borough\n    if (neigh == \"Not assigned\"):\n        neigh = borough\n\n    ## 3.2 Only process the cells that have an assigned borough. Ignore cells with a borough that is Not assigned.\n    if (borough != 'Not assigned'):\n        postcode_dict = {\n            \"Postcode\": postcode, \n            \"Borough\": borough, \n            \"Neighbourhood\": neigh\n        }\n        ## 3.3 If we already have an entry for this postcode, then concatenate the neighbourhoods and updating the existing entry\n        if (postcode in postcode_list):\n            concatenated_neigh = postcode_list[postcode][\"Neighbourhood\"] + \", \" + neigh\n            postcode_dict.update({\"Neighbourhood\": concatenated_neigh})\n            postcode_list[postcode].update(postcode_dict)\n        else:\n            postcode_list[postcode] = postcode_dict"
        }, 
        {
            "source": "### Convert our dictionary of postcode data into a dataframe\nShow the first 12 entries.", 
            "cell_type": "markdown", 
            "metadata": {}
        }, 
        {
            "execution_count": 5, 
            "cell_type": "code", 
            "metadata": {}, 
            "outputs": [
                {
                    "execution_count": 5, 
                    "metadata": {}, 
                    "data": {
                        "text/html": "<div>\n<style scoped>\n    .dataframe tbody tr th:only-of-type {\n        vertical-align: middle;\n    }\n\n    .dataframe tbody tr th {\n        vertical-align: top;\n    }\n\n    .dataframe thead th {\n        text-align: right;\n    }\n</style>\n<table border=\"1\" class=\"dataframe\">\n  <thead>\n    <tr style=\"text-align: right;\">\n      <th></th>\n      <th>Postcode</th>\n      <th>Borough</th>\n      <th>Neighbourhood</th>\n    </tr>\n  </thead>\n  <tbody>\n    <tr>\n      <th>0</th>\n      <td>M5N</td>\n      <td>Central Toronto</td>\n      <td>Roselawn</td>\n    </tr>\n    <tr>\n      <th>1</th>\n      <td>M1M</td>\n      <td>Scarborough</td>\n      <td>Cliffcrest, Cliffside, Scarborough Village West</td>\n    </tr>\n    <tr>\n      <th>2</th>\n      <td>M4J</td>\n      <td>East York</td>\n      <td>East Toronto</td>\n    </tr>\n    <tr>\n      <th>3</th>\n      <td>M4R</td>\n      <td>Central Toronto</td>\n      <td>North Toronto West</td>\n    </tr>\n    <tr>\n      <th>4</th>\n      <td>M1X</td>\n      <td>Scarborough</td>\n      <td>Upper Rouge</td>\n    </tr>\n    <tr>\n      <th>5</th>\n      <td>M5W</td>\n      <td>Downtown Toronto</td>\n      <td>Stn A PO Boxes 25 The Esplanade</td>\n    </tr>\n    <tr>\n      <th>6</th>\n      <td>M2R</td>\n      <td>North York</td>\n      <td>Willowdale West</td>\n    </tr>\n    <tr>\n      <th>7</th>\n      <td>M4A</td>\n      <td>North York</td>\n      <td>Victoria Village</td>\n    </tr>\n    <tr>\n      <th>8</th>\n      <td>M6M</td>\n      <td>York</td>\n      <td>Del Ray, Keelesdale, Mount Dennis, Silverthorn</td>\n    </tr>\n    <tr>\n      <th>9</th>\n      <td>M6K</td>\n      <td>West Toronto</td>\n      <td>Brockton, Exhibition Place, Parkdale Village</td>\n    </tr>\n    <tr>\n      <th>10</th>\n      <td>M2M</td>\n      <td>North York</td>\n      <td>Newtonbrook, Willowdale</td>\n    </tr>\n    <tr>\n      <th>11</th>\n      <td>M4S</td>\n      <td>Central Toronto</td>\n      <td>Davisville</td>\n    </tr>\n  </tbody>\n</table>\n</div>", 
                        "text/plain": "   Postcode           Borough                                    Neighbourhood\n0       M5N   Central Toronto                                         Roselawn\n1       M1M       Scarborough  Cliffcrest, Cliffside, Scarborough Village West\n2       M4J         East York                                     East Toronto\n3       M4R   Central Toronto                               North Toronto West\n4       M1X       Scarborough                                      Upper Rouge\n5       M5W  Downtown Toronto                  Stn A PO Boxes 25 The Esplanade\n6       M2R        North York                                  Willowdale West\n7       M4A        North York                                 Victoria Village\n8       M6M              York   Del Ray, Keelesdale, Mount Dennis, Silverthorn\n9       M6K      West Toronto     Brockton, Exhibition Place, Parkdale Village\n10      M2M        North York                          Newtonbrook, Willowdale\n11      M4S   Central Toronto                                       Davisville"
                    }, 
                    "output_type": "execute_result"
                }
            ], 
            "source": "df = pd.DataFrame(list(postcode_list.values()), columns=headers)\ndf.set_index('Postcode')\ndf.head(12)"
        }, 
        {
            "source": "# Now check the shape of the data frame\n3.6 In the last cell of your notebook, use the .shape method to print the number of rows of your dataframe.", 
            "cell_type": "markdown", 
            "metadata": {}
        }, 
        {
            "execution_count": 12, 
            "cell_type": "code", 
            "metadata": {}, 
            "outputs": [
                {
                    "output_type": "stream", 
                    "name": "stdout", 
                    "text": "The dataframe has 103 rows.\n"
                }
            ], 
            "source": "print(\"The dataframe has {} rows.\".format(df.shape[0]))"
        }, 
        {
            "source": "### Obtain co-ordinates for the suburbs\n* 4.2 Now that you have built a dataframe of the postal code of each neighborhood along with the borough name and neighborhood name, in order to utilize the Foursquare location data, we need to get the latitude and the longitude coordinates of each neighborhood.", 
            "cell_type": "markdown", 
            "metadata": {}
        }, 
        {
            "execution_count": 7, 
            "cell_type": "code", 
            "metadata": {
                "scrolled": true
            }, 
            "outputs": [
                {
                    "execution_count": 7, 
                    "metadata": {}, 
                    "data": {
                        "text/html": "<div>\n<style scoped>\n    .dataframe tbody tr th:only-of-type {\n        vertical-align: middle;\n    }\n\n    .dataframe tbody tr th {\n        vertical-align: top;\n    }\n\n    .dataframe thead th {\n        text-align: right;\n    }\n</style>\n<table border=\"1\" class=\"dataframe\">\n  <thead>\n    <tr style=\"text-align: right;\">\n      <th></th>\n      <th>Postcode</th>\n      <th>Latitude</th>\n      <th>Longitude</th>\n    </tr>\n  </thead>\n  <tbody>\n    <tr>\n      <th>0</th>\n      <td>M1B</td>\n      <td>43.8066863</td>\n      <td>-79.1943534</td>\n    </tr>\n    <tr>\n      <th>1</th>\n      <td>M1C</td>\n      <td>43.7845351</td>\n      <td>-79.1604971</td>\n    </tr>\n    <tr>\n      <th>2</th>\n      <td>M1E</td>\n      <td>43.7635726</td>\n      <td>-79.1887115</td>\n    </tr>\n    <tr>\n      <th>3</th>\n      <td>M1G</td>\n      <td>43.7709921</td>\n      <td>-79.2169174</td>\n    </tr>\n    <tr>\n      <th>4</th>\n      <td>M1H</td>\n      <td>43.773136</td>\n      <td>-79.2394761</td>\n    </tr>\n  </tbody>\n</table>\n</div>", 
                        "text/plain": "  Postcode    Latitude    Longitude\n0      M1B  43.8066863  -79.1943534\n1      M1C  43.7845351  -79.1604971\n2      M1E  43.7635726  -79.1887115\n3      M1G  43.7709921  -79.2169174\n4      M1H   43.773136  -79.2394761"
                    }, 
                    "output_type": "execute_result"
                }
            ], 
            "source": "#use geocoder or csv\n\nimport csv\n\ncsv_url = 'https://cocl.us/Geospatial_data'\n\nwith requests.Session() as s:\n    download = s.get(csv_url)\n\n    decoded_content = download.content.decode('utf-8')\n\n    reader = csv.reader(decoded_content.splitlines(), delimiter=',')\n    csv_data = list(reader)\n            \nlatlong_df=pd.DataFrame(csv_data[1:], columns=['Postcode', 'Latitude', 'Longitude'])\nlatlong_df.set_index('Postcode')\nlatlong_df.head()"
        }, 
        {
            "source": "### Update our dataframe with the co-ordinates of each postcode\ne.g. 'M4N' should have co-ordinates: ('43.7280205', '-79.3887901')", 
            "cell_type": "markdown", 
            "metadata": {}
        }, 
        {
            "execution_count": 8, 
            "cell_type": "code", 
            "metadata": {}, 
            "outputs": [
                {
                    "execution_count": 8, 
                    "metadata": {}, 
                    "data": {
                        "text/html": "<div>\n<style scoped>\n    .dataframe tbody tr th:only-of-type {\n        vertical-align: middle;\n    }\n\n    .dataframe tbody tr th {\n        vertical-align: top;\n    }\n\n    .dataframe thead th {\n        text-align: right;\n    }\n</style>\n<table border=\"1\" class=\"dataframe\">\n  <thead>\n    <tr style=\"text-align: right;\">\n      <th></th>\n      <th>Postcode</th>\n      <th>Borough</th>\n      <th>Neighbourhood</th>\n      <th>Latitude</th>\n      <th>Longitude</th>\n    </tr>\n  </thead>\n  <tbody>\n    <tr>\n      <th>0</th>\n      <td>M5N</td>\n      <td>Central Toronto</td>\n      <td>Roselawn</td>\n      <td>43.711695</td>\n      <td>-79.416936</td>\n    </tr>\n    <tr>\n      <th>1</th>\n      <td>M1M</td>\n      <td>Scarborough</td>\n      <td>Cliffcrest, Cliffside, Scarborough Village West</td>\n      <td>43.716316</td>\n      <td>-79.239476</td>\n    </tr>\n    <tr>\n      <th>2</th>\n      <td>M4J</td>\n      <td>East York</td>\n      <td>East Toronto</td>\n      <td>43.685347</td>\n      <td>-79.338106</td>\n    </tr>\n    <tr>\n      <th>3</th>\n      <td>M4R</td>\n      <td>Central Toronto</td>\n      <td>North Toronto West</td>\n      <td>43.715383</td>\n      <td>-79.405678</td>\n    </tr>\n    <tr>\n      <th>4</th>\n      <td>M1X</td>\n      <td>Scarborough</td>\n      <td>Upper Rouge</td>\n      <td>43.836125</td>\n      <td>-79.205636</td>\n    </tr>\n    <tr>\n      <th>5</th>\n      <td>M5W</td>\n      <td>Downtown Toronto</td>\n      <td>Stn A PO Boxes 25 The Esplanade</td>\n      <td>43.646435</td>\n      <td>-79.374846</td>\n    </tr>\n    <tr>\n      <th>6</th>\n      <td>M2R</td>\n      <td>North York</td>\n      <td>Willowdale West</td>\n      <td>43.782736</td>\n      <td>-79.442259</td>\n    </tr>\n    <tr>\n      <th>7</th>\n      <td>M4A</td>\n      <td>North York</td>\n      <td>Victoria Village</td>\n      <td>43.725882</td>\n      <td>-79.315572</td>\n    </tr>\n    <tr>\n      <th>8</th>\n      <td>M6M</td>\n      <td>York</td>\n      <td>Del Ray, Keelesdale, Mount Dennis, Silverthorn</td>\n      <td>43.691116</td>\n      <td>-79.476013</td>\n    </tr>\n    <tr>\n      <th>9</th>\n      <td>M6K</td>\n      <td>West Toronto</td>\n      <td>Brockton, Exhibition Place, Parkdale Village</td>\n      <td>43.636847</td>\n      <td>-79.428191</td>\n    </tr>\n    <tr>\n      <th>10</th>\n      <td>M2M</td>\n      <td>North York</td>\n      <td>Newtonbrook, Willowdale</td>\n      <td>43.789053</td>\n      <td>-79.408493</td>\n    </tr>\n    <tr>\n      <th>11</th>\n      <td>M4S</td>\n      <td>Central Toronto</td>\n      <td>Davisville</td>\n      <td>43.704324</td>\n      <td>-79.388790</td>\n    </tr>\n  </tbody>\n</table>\n</div>", 
                        "text/plain": "   Postcode           Borough  \\\n0       M5N   Central Toronto   \n1       M1M       Scarborough   \n2       M4J         East York   \n3       M4R   Central Toronto   \n4       M1X       Scarborough   \n5       M5W  Downtown Toronto   \n6       M2R        North York   \n7       M4A        North York   \n8       M6M              York   \n9       M6K      West Toronto   \n10      M2M        North York   \n11      M4S   Central Toronto   \n\n                                      Neighbourhood   Latitude  Longitude  \n0                                          Roselawn  43.711695 -79.416936  \n1   Cliffcrest, Cliffside, Scarborough Village West  43.716316 -79.239476  \n2                                      East Toronto  43.685347 -79.338106  \n3                                North Toronto West  43.715383 -79.405678  \n4                                       Upper Rouge  43.836125 -79.205636  \n5                   Stn A PO Boxes 25 The Esplanade  43.646435 -79.374846  \n6                                   Willowdale West  43.782736 -79.442259  \n7                                  Victoria Village  43.725882 -79.315572  \n8    Del Ray, Keelesdale, Mount Dennis, Silverthorn  43.691116 -79.476013  \n9      Brockton, Exhibition Place, Parkdale Village  43.636847 -79.428191  \n10                          Newtonbrook, Willowdale  43.789053 -79.408493  \n11                                       Davisville  43.704324 -79.388790  "
                    }, 
                    "output_type": "execute_result"
                }
            ], 
            "source": "df = pd.merge(df, latlong_df, how='outer', on='Postcode')\n#convert the lat/long strings to numeric\ndf[['Latitude', 'Longitude']] = df[['Latitude', 'Longitude']].apply(pd.to_numeric)\ndf.head(12)"
        }, 
        {
            "source": "### Explore and cluster the neighborhoods in Toronto\nExplore and cluster the neighborhoods in Toronto. \nYou can decide to work with only boroughs that contain the word Toronto and then replicate the same analysis we did to the New York City data. It is up to you.\n\nJust make sure:\n* to add enough Markdown cells to explain what you decided to do and to report any observations you make.\n* to generate maps to visualize your neighborhoods and how they cluster together.", 
            "cell_type": "markdown", 
            "metadata": {}
        }, 
        {
            "execution_count": 9, 
            "cell_type": "code", 
            "metadata": {}, 
            "outputs": [], 
            "source": "# Load previous new york notebook for reference"
        }
    ], 
    "metadata": {
        "kernelspec": {
            "display_name": "Python 3.5", 
            "name": "python3", 
            "language": "python"
        }, 
        "language_info": {
            "mimetype": "text/x-python", 
            "nbconvert_exporter": "python", 
            "version": "3.5.5", 
            "name": "python", 
            "file_extension": ".py", 
            "pygments_lexer": "ipython3", 
            "codemirror_mode": {
                "version": 3, 
                "name": "ipython"
            }
        }
    }, 
    "nbformat": 4
}