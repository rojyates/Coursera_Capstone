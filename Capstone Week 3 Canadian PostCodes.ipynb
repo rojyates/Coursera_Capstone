{
    "nbformat_minor": 1, 
    "cells": [
        {
            "source": "# Peer-graded Assignment: Segmenting and Clustering Neighborhoods in Toronto\nThis notebook extracts and processes the data in the table of postcodes from the wikipedia page at: https://en.wikipedia.org/wiki/List_of_postal_codes_of_Canada:_M\n\nWe ignore unused postcodes and merge all neighbourhoods with the same postcode into a single row, and assign the suburb name to the neighbourhood where one the neighbourhood has not been assigned a separate name.\n", 
            "cell_type": "markdown", 
            "metadata": {}
        }, 
        {
            "execution_count": 61, 
            "cell_type": "code", 
            "metadata": {}, 
            "outputs": [], 
            "source": "import numpy as np # library to handle data in a vectorized manner\n\nimport pandas as pd # library for data analysis\npd.set_option('display.max_columns', None)\npd.set_option('display.max_rows', None)\n\nimport json # library to handle JSON files"
        }, 
        {
            "source": "### First let's download the wiki page and convert into an object tree", 
            "cell_type": "markdown", 
            "metadata": {}
        }, 
        {
            "execution_count": 62, 
            "cell_type": "code", 
            "metadata": {}, 
            "outputs": [], 
            "source": "url = \"https://en.wikipedia.org/wiki/List_of_postal_codes_of_Canada:_M\"\n\nimport requests # library to handle requests\nfrom pandas.io.json import json_normalize # tranform JSON file into a pandas dataframe\nfrom bs4 import BeautifulSoup\n\n#!wget -q -O 'canadian_postcodes.html' url\n#print('Data downloaded!')\n#with open('canadian_postcodes.html') as wiki_page:\n\nwiki_page = requests.get(url).text\n    \nsoup = BeautifulSoup(wiki_page,'lxml')\n#print(soup.prettify())"
        }, 
        {
            "source": "### Find the table part of the page and extract the headers\n3.1 The dataframe will consist of three columns: PostalCode, Borough, and Neighborhood", 
            "cell_type": "markdown", 
            "metadata": {}
        }, 
        {
            "execution_count": 63, 
            "cell_type": "code", 
            "metadata": {}, 
            "outputs": [
                {
                    "execution_count": 63, 
                    "metadata": {}, 
                    "data": {
                        "text/plain": "['Postcode', 'Borough', 'Neighbourhood']"
                    }, 
                    "output_type": "execute_result"
                }
            ], 
            "source": "My_table = soup.find('table',{'class':'wikitable sortable'})\n#print(My_table)\n\nths = My_table.findAll('th')\nheaders=[]\nfor th in ths:\n    headers.append(th.text.strip())\nheaders"
        }, 
        {
            "source": "### Now add the data\nFind all of the table rows containing data and build up a dictionary of postcodes, boroughs and neighbourhoods, filtering and appending neighbourhoods to existing postcodes as we go.\n* 3.2 Only process the cells that have an assigned borough. _Ignore cells with a borough that is Not assigned._\n* 3.3 More than one neighborhood can exist in one postal code area. _For example, in the table on the Wikipedia page, you will notice that M5A is listed twice and has two neighborhoods: Harbourfront and Regent Park. These two rows will be combined into one row with the neighborhoods separated with a comma as shown in row 11 in the above table._\n* 3.4 If a cell has a borough but a Not assigned neighborhood, then the neighborhood will be the same as the borough. _So for the 9th cell in the table on the Wikipedia page, the value of the Borough and the Neighborhood columns will be Queen's Park._", 
            "cell_type": "markdown", 
            "metadata": {}
        }, 
        {
            "execution_count": 64, 
            "cell_type": "code", 
            "metadata": {
                "scrolled": false
            }, 
            "outputs": [], 
            "source": "# Find all of the table rows to process\nrows = My_table.findAll('tr')\npostcode_list={}\n# lose the first row as that's the headers that we have already processed\nrows=rows[1:]\nfor row in rows:\n    tds = row.findAll('td')\n    postcode = tds[0].text.strip()\n    borough = tds[1].text.strip()\n    neigh = tds[2].text.strip()\n    \n    #3.4 If a cell has a borough but a Not assigned neighborhood, then the neighborhood will be the same as the borough\n    if (neigh == \"Not assigned\"):\n        neigh = borough\n\n    ## 3.2 Only process the cells that have an assigned borough. Ignore cells with a borough that is Not assigned.\n    if (borough != 'Not assigned'):\n        postcode_dict = {\n            \"Postcode\": postcode, \n            \"Borough\": borough, \n            \"Neighbourhood\": neigh\n        }\n        ## 3.3 If we already have an entry for this postcode, then concatenate the neighbourhoods and updating the existing entry\n        if (postcode in postcode_list):\n            concatenated_neigh = postcode_list[postcode][\"Neighbourhood\"] + \", \" + neigh\n            postcode_dict.update({\"Neighbourhood\": concatenated_neigh})\n            postcode_list[postcode].update(postcode_dict)\n        else:\n            postcode_list[postcode] = postcode_dict"
        }, 
        {
            "source": "### Convert our dictionary of postcode data into a dataframe\nShow the first 12 entries.", 
            "cell_type": "markdown", 
            "metadata": {}
        }, 
        {
            "execution_count": 65, 
            "cell_type": "code", 
            "metadata": {}, 
            "outputs": [
                {
                    "execution_count": 65, 
                    "metadata": {}, 
                    "data": {
                        "text/html": "<div>\n<style scoped>\n    .dataframe tbody tr th:only-of-type {\n        vertical-align: middle;\n    }\n\n    .dataframe tbody tr th {\n        vertical-align: top;\n    }\n\n    .dataframe thead th {\n        text-align: right;\n    }\n</style>\n<table border=\"1\" class=\"dataframe\">\n  <thead>\n    <tr style=\"text-align: right;\">\n      <th></th>\n      <th>Postcode</th>\n      <th>Borough</th>\n      <th>Neighbourhood</th>\n    </tr>\n  </thead>\n  <tbody>\n    <tr>\n      <th>0</th>\n      <td>M1R</td>\n      <td>Scarborough</td>\n      <td>Maryvale, Wexford</td>\n    </tr>\n    <tr>\n      <th>1</th>\n      <td>M7A</td>\n      <td>Queen's Park</td>\n      <td>Queen's Park</td>\n    </tr>\n    <tr>\n      <th>2</th>\n      <td>M3A</td>\n      <td>North York</td>\n      <td>Parkwoods</td>\n    </tr>\n    <tr>\n      <th>3</th>\n      <td>M4H</td>\n      <td>East York</td>\n      <td>Thorncliffe Park</td>\n    </tr>\n    <tr>\n      <th>4</th>\n      <td>M1H</td>\n      <td>Scarborough</td>\n      <td>Cedarbrae</td>\n    </tr>\n    <tr>\n      <th>5</th>\n      <td>M5N</td>\n      <td>Central Toronto</td>\n      <td>Roselawn</td>\n    </tr>\n    <tr>\n      <th>6</th>\n      <td>M2J</td>\n      <td>North York</td>\n      <td>Fairview, Henry Farm, Oriole</td>\n    </tr>\n    <tr>\n      <th>7</th>\n      <td>M6L</td>\n      <td>North York</td>\n      <td>Maple Leaf Park, North Park, Upwood Park</td>\n    </tr>\n    <tr>\n      <th>8</th>\n      <td>M6M</td>\n      <td>York</td>\n      <td>Del Ray, Keelesdale, Mount Dennis, Silverthorn</td>\n    </tr>\n    <tr>\n      <th>9</th>\n      <td>M6R</td>\n      <td>West Toronto</td>\n      <td>Parkdale, Roncesvalles</td>\n    </tr>\n    <tr>\n      <th>10</th>\n      <td>M3M</td>\n      <td>North York</td>\n      <td>Downsview Central</td>\n    </tr>\n    <tr>\n      <th>11</th>\n      <td>M9C</td>\n      <td>Etobicoke</td>\n      <td>Bloordale Gardens, Eringate, Markland Wood, Ol...</td>\n    </tr>\n  </tbody>\n</table>\n</div>", 
                        "text/plain": "   Postcode          Borough  \\\n0       M1R      Scarborough   \n1       M7A     Queen's Park   \n2       M3A       North York   \n3       M4H        East York   \n4       M1H      Scarborough   \n5       M5N  Central Toronto   \n6       M2J       North York   \n7       M6L       North York   \n8       M6M             York   \n9       M6R     West Toronto   \n10      M3M       North York   \n11      M9C        Etobicoke   \n\n                                        Neighbourhood  \n0                                   Maryvale, Wexford  \n1                                        Queen's Park  \n2                                           Parkwoods  \n3                                    Thorncliffe Park  \n4                                           Cedarbrae  \n5                                            Roselawn  \n6                        Fairview, Henry Farm, Oriole  \n7            Maple Leaf Park, North Park, Upwood Park  \n8      Del Ray, Keelesdale, Mount Dennis, Silverthorn  \n9                              Parkdale, Roncesvalles  \n10                                  Downsview Central  \n11  Bloordale Gardens, Eringate, Markland Wood, Ol...  "
                    }, 
                    "output_type": "execute_result"
                }
            ], 
            "source": "df = pd.DataFrame(list(postcode_list.values()), columns=headers)\ndf.head(12)"
        }, 
        {
            "source": "# Now check the shape of the data frame\n3.6 In the last cell of your notebook, use the .shape method to print the number of rows of your dataframe.", 
            "cell_type": "markdown", 
            "metadata": {}
        }, 
        {
            "execution_count": 66, 
            "cell_type": "code", 
            "metadata": {}, 
            "outputs": [
                {
                    "execution_count": 66, 
                    "metadata": {}, 
                    "data": {
                        "text/plain": "(103, 3)"
                    }, 
                    "output_type": "execute_result"
                }
            ], 
            "source": "df.shape"
        }
    ], 
    "metadata": {
        "kernelspec": {
            "display_name": "Python 3.5", 
            "name": "python3", 
            "language": "python"
        }, 
        "language_info": {
            "mimetype": "text/x-python", 
            "nbconvert_exporter": "python", 
            "version": "3.5.5", 
            "name": "python", 
            "file_extension": ".py", 
            "pygments_lexer": "ipython3", 
            "codemirror_mode": {
                "version": 3, 
                "name": "ipython"
            }
        }
    }, 
    "nbformat": 4
}